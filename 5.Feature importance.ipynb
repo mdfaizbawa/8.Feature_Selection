{
 "cells": [
  {
   "cell_type": "code",
   "execution_count": 1,
   "id": "1ab33ede-db1d-4af6-9006-a5198887368d",
   "metadata": {},
   "outputs": [],
   "source": [
    "import pandas as pd\n",
    "from sklearn.model_selection import train_test_split \n",
    "import numpy as np\n",
    "from sklearn.preprocessing import StandardScaler\n",
    "from sklearn.feature_selection import RFE\n",
    "from sklearn.linear_model import LogisticRegression\n",
    "from sklearn.tree import DecisionTreeClassifier\n",
    "from sklearn.metrics import accuracy_score \n",
    "from sklearn.metrics import classification_report\n",
    "from sklearn.metrics import confusion_matrix\n",
    "from matplotlib import pyplot\n",
    "\n",
    "\n",
    "def rfeFeature(indep_X,dep_Y,n):\n",
    "    rfelist=[]\n",
    "    \n",
    "    DT= DecisionTreeClassifier(criterion = 'gini', max_features='sqrt',splitter='best',random_state = 0)\n",
    "    \n",
    "    rfe=RFE(DT,n_features_to_select=n, step=1)\n",
    "    fit1=rfe.fit(indep_X,dep_Y)\n",
    "    rfe_features=fit1.transform(indep_X)\n",
    "    selectedCol=indep_X.columns[fit1.get_support(indices=True)]\n",
    "    rfelist.append(rfe_features)\n",
    "    return rfelist,selectedCol\n",
    "\n",
    "def split_scalar(indep_X,dep_Y):\n",
    "    X_train, X_test, y_train, y_test = train_test_split(indep_X, dep_Y, test_size = 0.25, random_state = 0)\n",
    "    sc = StandardScaler()\n",
    "    X_train = sc.fit_transform(X_train)\n",
    "    X_test = sc.transform(X_test)  \n",
    "    return X_train, X_test, y_train, y_test\n",
    "\n",
    "def cm_prediction(classifier,X_test):\n",
    "    y_pred = classifier.predict(X_test)\n",
    "    cm = confusion_matrix(y_test, y_pred)\n",
    "    Accuracy=accuracy_score(y_test, y_pred )\n",
    "    report=classification_report(y_test, y_pred)\n",
    "    \n",
    "    return  classifier,Accuracy,report,X_test,y_test,cm\n",
    "\n",
    "\n",
    "def logistic(X_train,y_train,X_test): \n",
    "    classifier = LogisticRegression(random_state = 0)\n",
    "    classifier.fit(X_train, y_train)\n",
    "    classifier,Accuracy,report,X_test,y_test,cm=cm_prediction(classifier,X_test)\n",
    "    importance=classifier.coef_[0]\n",
    "    return  classifier,Accuracy,report,X_test,y_test,cm,importance"
   ]
  },
  {
   "cell_type": "code",
   "execution_count": 2,
   "id": "e78a0bfe-d1f4-4d7e-9971-1c91801e53a1",
   "metadata": {},
   "outputs": [],
   "source": [
    "dataset=pd.read_csv('prep.csv',index_col=None)\n",
    "df=dataset\n",
    "\n",
    "df=pd.get_dummies(df,drop_first=True)\n",
    "\n",
    "indep_X=df.drop('classification_yes',axis=1)\n",
    "dep_Y=df['classification_yes']"
   ]
  },
  {
   "cell_type": "code",
   "execution_count": 3,
   "id": "b913d855-de63-42f4-84fb-c2ce29068cea",
   "metadata": {},
   "outputs": [
    {
     "data": {
      "text/plain": [
       "[0.95]"
      ]
     },
     "execution_count": 3,
     "metadata": {},
     "output_type": "execute_result"
    }
   ],
   "source": [
    "rfelist,selected=rfeFeature(indep_X,dep_Y,5) \n",
    "\n",
    "acclog=[]\n",
    "\n",
    "for i in rfelist:\n",
    "    X_train, X_test, y_train, y_test=split_scalar(i,dep_Y)\n",
    "    classifier,Accuracy,report,X_test,y_test,cm,importances=logistic(X_train,y_train,X_test)\n",
    "    acclog.append(Accuracy)\n",
    "\n",
    "\n",
    "acclog"
   ]
  },
  {
   "cell_type": "code",
   "execution_count": 4,
   "id": "aaa3c30d-0ac2-4f36-806b-478d96652424",
   "metadata": {},
   "outputs": [
    {
     "name": "stdout",
     "output_type": "stream",
     "text": [
      "\n",
      "Feature Importance (importances):\n",
      "      Feature  importances\n",
      "0          sc     1.955635\n",
      "4      dm_yes     1.950766\n",
      "2        sg_c     1.613289\n",
      "3  rbc_normal    -1.535725\n",
      "1        hrmo    -3.298167\n"
     ]
    }
   ],
   "source": [
    "feature_importance = pd.DataFrame({'Feature': selected,'importances': importances})\n",
    "print(\"\\nFeature Importance (importances):\")\n",
    "print(feature_importance.sort_values(by='importances', ascending=False))"
   ]
  },
  {
   "cell_type": "code",
   "execution_count": 7,
   "id": "b88dc3ab-d34f-420c-a27b-6b85fdecaac2",
   "metadata": {},
   "outputs": [
    {
     "data": {
      "image/png": "[encoded data removed]",
      "text/plain": [
       "<Figure size 640x480 with 1 Axes>"
      ]
     },
     "metadata": {},
     "output_type": "display_data"
    }
   ],
   "source": [
    "pyplot.bar([x for x in range(len(importances))],importances)\n",
    "pyplot.show()"
   ]
  },
  {
   "cell_type": "code",
   "execution_count": null,
   "id": "100afdae-0c90-4127-b0fc-525473179c51",
   "metadata": {},
   "outputs": [],
   "source": []
  }
 ],
 "metadata": {
  "kernelspec": {
   "display_name": "Python 3 (ipykernel)",
   "language": "python",
   "name": "python3"
  },
  "language_info": {
   "codemirror_mode": {
    "name": "ipython",
    "version": 3
   },
   "file_extension": ".py",
   "mimetype": "text/x-python",
   "name": "python",
   "nbconvert_exporter": "python",
   "pygments_lexer": "ipython3",
   "version": "3.12.4"
  }
 },
 "nbformat": 4,
 "nbformat_minor": 5
}
